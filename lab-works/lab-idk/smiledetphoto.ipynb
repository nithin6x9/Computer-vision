{
 "cells": [
  {
   "cell_type": "code",
   "execution_count": 1,
   "id": "dc4061e1-88a7-4905-acb8-cec7b16b08a2",
   "metadata": {},
   "outputs": [],
   "source": [
    "import cv2\n",
    "\n",
    "# Load the Haar cascade classifiers for face and smile detection\n",
    "face_cascade = cv2.CascadeClassifier('haarcascade_frontalface_default (1).xml')\n",
    "smile_cascade = cv2.CascadeClassifier('haarcascade_smile (1).xml')\n",
    "\n",
    "# Read the input image\n",
    "img = cv2.imread('face.jpeg')\n",
    "gray = cv2.cvtColor(img, cv2.COLOR_BGR2GRAY)\n",
    "\n",
    "# Detect faces in the image\n",
    "faces = face_cascade.detectMultiScale(gray, 1.3, 5)\n",
    "\n",
    "# For each detected face, check for smiles\n",
    "for (x, y, w, h) in faces:\n",
    "    cv2.rectangle(img, (x, y), (x + w, y + h), (255, 0, 0), 2)  # Draw a rectangle around the face\n",
    "    roi_gray = gray[y:y + h, x:x + w]  # Region of interest (ROI) for face\n",
    "    roi_color = img[y:y + h, x:x + w]\n",
    "\n",
    "    # Detect smiles within the face ROI\n",
    "    smiles = smile_cascade.detectMultiScale(roi_gray, 1.8, 20)\n",
    "    for (sx, sy, sw, sh) in smiles:\n",
    "        cv2.rectangle(roi_color, (sx, sy), (sx + sw, sy + sh), (0, 0, 255), 2)  # Draw a rectangle around the smile\n",
    "\n",
    "# Display the result\n",
    "cv2.imshow('Smile Detection', img)\n",
    "cv2.waitKey(0)\n",
    "cv2.destroyAllWindows()\n"
   ]
  },
  {
   "cell_type": "code",
   "execution_count": null,
   "id": "ad002a99-09a7-45fb-a815-fa39884e26bf",
   "metadata": {},
   "outputs": [],
   "source": []
  }
 ],
 "metadata": {
  "kernelspec": {
   "display_name": "Python 3 (ipykernel)",
   "language": "python",
   "name": "python3"
  },
  "language_info": {
   "codemirror_mode": {
    "name": "ipython",
    "version": 3
   },
   "file_extension": ".py",
   "mimetype": "text/x-python",
   "name": "python",
   "nbconvert_exporter": "python",
   "pygments_lexer": "ipython3",
   "version": "3.11.7"
  }
 },
 "nbformat": 4,
 "nbformat_minor": 5
}
