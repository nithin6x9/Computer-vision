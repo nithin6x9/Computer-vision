{
 "cells": [
  {
   "cell_type": "code",
   "execution_count": 2,
   "id": "a4d7e205-0261-4169-9dfd-3846d274b230",
   "metadata": {},
   "outputs": [
    {
     "name": "stdout",
     "output_type": "stream",
     "text": [
      "Error: Unable to open video source\n",
      "Error: Unable to load face cascade from /home/nithin_nk/git/computer_vision/lab-works/lab-idk/haarcascade_frontalface_default.xml\n",
      "Error: Unable to load eye cascade from /home/nithin_nk/git/computer_vision/lab-works/lab-idk/haarcascade_eye.xml\n",
      "Error: Unable to load smile cascade from /home/nithin_nk/git/computer_vision/lab-works/lab-idk/haarcascade_smile.xml\n",
      "Error: Unable to read frame\n"
     ]
    },
    {
     "name": "stderr",
     "output_type": "stream",
     "text": [
      "[ WARN:0@202.185] global cap_v4l.cpp:997 open VIDEOIO(V4L2:/dev/video0): can't open camera by index\n",
      "[ERROR:0@202.187] global obsensor_uvc_stream_channel.cpp:159 getStreamChannelGroup Camera index out of range\n",
      "[ERROR:0@202.190] global persistence.cpp:519 open Can't open file: '/home/nithin_nk/git/computer_vision/lab-works/lab-idk/haarcascade_frontalface_default.xml' in read mode\n",
      "[ERROR:0@202.191] global persistence.cpp:519 open Can't open file: '/home/nithin_nk/git/computer_vision/lab-works/lab-idk/haarcascade_eye.xml' in read mode\n",
      "[ERROR:0@202.191] global persistence.cpp:519 open Can't open file: '/home/nithin_nk/git/computer_vision/lab-works/lab-idk/haarcascade_smile.xml' in read mode\n"
     ]
    },
    {
     "ename": "error",
     "evalue": "OpenCV(4.9.0) /io/opencv/modules/imgproc/src/color.cpp:196: error: (-215:Assertion failed) !_src.empty() in function 'cvtColor'\n",
     "output_type": "error",
     "traceback": [
      "\u001b[0;31m---------------------------------------------------------------------------\u001b[0m",
      "\u001b[0;31merror\u001b[0m                                     Traceback (most recent call last)",
      "Cell \u001b[0;32mIn[2], line 48\u001b[0m\n\u001b[1;32m     46\u001b[0m vid\u001b[38;5;241m.\u001b[39mrelease()\n\u001b[1;32m     47\u001b[0m cv2\u001b[38;5;241m.\u001b[39mdestroyAllWindows()\n\u001b[0;32m---> 48\u001b[0m img_rgb \u001b[38;5;241m=\u001b[39m \u001b[43mcv2\u001b[49m\u001b[38;5;241;43m.\u001b[39;49m\u001b[43mcvtColor\u001b[49m\u001b[43m(\u001b[49m\u001b[43mimg\u001b[49m\u001b[43m,\u001b[49m\u001b[43m \u001b[49m\u001b[43mcv2\u001b[49m\u001b[38;5;241;43m.\u001b[39;49m\u001b[43mCOLOR_BGR2RGB\u001b[49m\u001b[43m)\u001b[49m\n\u001b[1;32m     49\u001b[0m plt\u001b[38;5;241m.\u001b[39mfigure(figsize\u001b[38;5;241m=\u001b[39m(\u001b[38;5;241m10\u001b[39m, \u001b[38;5;241m6\u001b[39m))\n\u001b[1;32m     50\u001b[0m plt\u001b[38;5;241m.\u001b[39mimshow(img_rgb)\n",
      "\u001b[0;31merror\u001b[0m: OpenCV(4.9.0) /io/opencv/modules/imgproc/src/color.cpp:196: error: (-215:Assertion failed) !_src.empty() in function 'cvtColor'\n"
     ]
    }
   ],
   "source": [
    "import cv2\n",
    "import imutils\n",
    "import matplotlib.pyplot as plt\n",
    "vid = cv2.VideoCapture(0)\n",
    "\n",
    "if not vid.isOpened():\n",
    "    print(\"Error: Unable to open video source\")\n",
    "    exit()\n",
    "face_cascade_path = '/home/nithin_nk/git/computer_vision/lab-works/lab-idk/haarcascade_frontalface_default.xml'\n",
    "eye_cascade_path = '/home/nithin_nk/git/computer_vision/lab-works/lab-idk/haarcascade_eye.xml'\n",
    "smile_cascade_path = '/home/nithin_nk/git/computer_vision/lab-works/lab-idk/haarcascade_smile.xml'\n",
    "\n",
    "face_cascade = cv2.CascadeClassifier(face_cascade_path)\n",
    "eye_cascade = cv2.CascadeClassifier(eye_cascade_path)\n",
    "smile_cascade = cv2.CascadeClassifier(smile_cascade_path)\n",
    "\n",
    "if face_cascade.empty():\n",
    "    print(f\"Error: Unable to load face cascade from {face_cascade_path}\")\n",
    "    exit()\n",
    "if eye_cascade.empty():\n",
    "    print(f\"Error: Unable to load eye cascade from {eye_cascade_path}\")\n",
    "    exit()\n",
    "if smile_cascade.empty():\n",
    "    print(f\"Error: Unable to load smile cascade from {smile_cascade_path}\")\n",
    "    exit()\n",
    "\n",
    "while True:\n",
    "    ret, img = vid.read()\n",
    "    if not ret:\n",
    "        print(\"Error: Unable to read frame\")\n",
    "        break\n",
    "    img = imutils.resize(img, width=1000)\n",
    "    gray = cv2.cvtColor(img, cv2.COLOR_BGR2GRAY)\n",
    "    faces = face_cascade.detectMultiScale(gray, 1.3, 5)\n",
    "    for (x, y, w, h) in faces:\n",
    "        cv2.rectangle(img, (x, y), (x+w, y+h), (255, 255, 255), 2)\n",
    "        roi_gray = gray[y:y+h, x:x+w]\n",
    "        roi_color = img[y:y+h, x:x+w]\n",
    "        eyes = eye_cascade.detectMultiScale(roi_gray)\n",
    "        for (ex, ey, ew, eh) in eyes:\n",
    "            cv2.rectangle(roi_color, (ex, ey), (ex+ew, ey+eh), (255, 0, 0), 2)\n",
    "    cv2.imshow('frame', img)\n",
    "    k = cv2.waitKey(1) & 0xFF\n",
    "    if k == ord('q') or k == 27:\n",
    "        break\n",
    "vid.release()\n",
    "cv2.destroyAllWindows()\n",
    "img_rgb = cv2.cvtColor(img, cv2.COLOR_BGR2RGB)\n",
    "plt.figure(figsize=(10, 6))\n",
    "plt.imshow(img_rgb)\n",
    "plt.axis('off')\n",
    "plt.title('Face and Eye Detection')\n",
    "plt.show()"
   ]
  },
  {
   "cell_type": "code",
   "execution_count": 1,
   "id": "9d283f7b-f382-455e-9a4c-6fef21862d17",
   "metadata": {},
   "outputs": [
    {
     "name": "stderr",
     "output_type": "stream",
     "text": [
      "[ERROR:0@0.271] global persistence.cpp:519 open Can't open file: '/home/nithin_nk/git/computer_vision/lab-works/lab-idk/haarcascade_frontalface_default.xml' in read mode\n",
      "[ERROR:0@0.272] global persistence.cpp:519 open Can't open file: '/home/nithin_nk/git/computer_vision/lab-works/lab-idk/haarcascade_eye.xml' in read mode\n",
      "[ERROR:0@0.272] global persistence.cpp:519 open Can't open file: '/home/nithin_nk/git/computer_vision/lab-works/lab-idk/haarcascade_smile.xml' in read mode\n"
     ]
    },
    {
     "ename": "error",
     "evalue": "OpenCV(4.9.0) /io/opencv/modules/objdetect/src/cascadedetect.cpp:1689: error: (-215:Assertion failed) !empty() in function 'detectMultiScale'\n",
     "output_type": "error",
     "traceback": [
      "\u001b[0;31m---------------------------------------------------------------------------\u001b[0m",
      "\u001b[0;31merror\u001b[0m                                     Traceback (most recent call last)",
      "Cell \u001b[0;32mIn[1], line 40\u001b[0m\n\u001b[1;32m     37\u001b[0m     plt\u001b[38;5;241m.\u001b[39mshow()\n\u001b[1;32m     39\u001b[0m \u001b[38;5;28;01mif\u001b[39;00m \u001b[38;5;18m__name__\u001b[39m \u001b[38;5;241m==\u001b[39m \u001b[38;5;124m\"\u001b[39m\u001b[38;5;124m__main__\u001b[39m\u001b[38;5;124m\"\u001b[39m:\n\u001b[0;32m---> 40\u001b[0m     \u001b[43mprocess_video\u001b[49m\u001b[43m(\u001b[49m\u001b[43m)\u001b[49m\n",
      "Cell \u001b[0;32mIn[1], line 23\u001b[0m, in \u001b[0;36mprocess_video\u001b[0;34m()\u001b[0m\n\u001b[1;32m     21\u001b[0m \u001b[38;5;28;01mif\u001b[39;00m \u001b[38;5;129;01mnot\u001b[39;00m ret:\n\u001b[1;32m     22\u001b[0m     \u001b[38;5;28;01mbreak\u001b[39;00m\n\u001b[0;32m---> 23\u001b[0m frame_with_smiles \u001b[38;5;241m=\u001b[39m \u001b[43mdetect_smiles\u001b[49m\u001b[43m(\u001b[49m\u001b[43mframe\u001b[49m\u001b[43m)\u001b[49m\n\u001b[1;32m     24\u001b[0m cv2\u001b[38;5;241m.\u001b[39mimshow(\u001b[38;5;124m'\u001b[39m\u001b[38;5;124mSmile Detection\u001b[39m\u001b[38;5;124m'\u001b[39m, frame_with_smiles)\n\u001b[1;32m     25\u001b[0m plot_frame(frame_with_smiles)\n",
      "Cell \u001b[0;32mIn[1], line 10\u001b[0m, in \u001b[0;36mdetect_smiles\u001b[0;34m(frame)\u001b[0m\n\u001b[1;32m      8\u001b[0m \u001b[38;5;28;01mdef\u001b[39;00m \u001b[38;5;21mdetect_smiles\u001b[39m(frame):\n\u001b[1;32m      9\u001b[0m     gray \u001b[38;5;241m=\u001b[39m cv2\u001b[38;5;241m.\u001b[39mcvtColor(frame, cv2\u001b[38;5;241m.\u001b[39mCOLOR_BGR2GRAY)\n\u001b[0;32m---> 10\u001b[0m     faces \u001b[38;5;241m=\u001b[39m \u001b[43mface_cascade\u001b[49m\u001b[38;5;241;43m.\u001b[39;49m\u001b[43mdetectMultiScale\u001b[49m\u001b[43m(\u001b[49m\u001b[43mgray\u001b[49m\u001b[43m,\u001b[49m\u001b[43m \u001b[49m\u001b[38;5;241;43m1.3\u001b[39;49m\u001b[43m,\u001b[49m\u001b[43m \u001b[49m\u001b[38;5;241;43m5\u001b[39;49m\u001b[43m)\u001b[49m\n\u001b[1;32m     11\u001b[0m     \u001b[38;5;28;01mfor\u001b[39;00m (x, y, w, h) \u001b[38;5;129;01min\u001b[39;00m faces:\n\u001b[1;32m     12\u001b[0m         roi_gray \u001b[38;5;241m=\u001b[39m gray[y:y\u001b[38;5;241m+\u001b[39mh, x:x\u001b[38;5;241m+\u001b[39mw]\n",
      "\u001b[0;31merror\u001b[0m: OpenCV(4.9.0) /io/opencv/modules/objdetect/src/cascadedetect.cpp:1689: error: (-215:Assertion failed) !empty() in function 'detectMultiScale'\n"
     ]
    }
   ],
   "source": [
    "import cv2\n",
    "import matplotlib.pyplot as plt\n",
    "\n",
    "face_cascade = cv2.CascadeClassifier('/home/nithin_nk/git/computer_vision/lab-works/lab-idk/haarcascade_frontalface_default.xml')\n",
    "eye_cascade = cv2.CascadeClassifier('/home/nithin_nk/git/computer_vision/lab-works/lab-idk/haarcascade_eye.xml')\n",
    "smile_cascade = cv2.CascadeClassifier('/home/nithin_nk/git/computer_vision/lab-works/lab-idk/haarcascade_smile.xml')\n",
    "\n",
    "def detect_smiles(frame):\n",
    "    gray = cv2.cvtColor(frame, cv2.COLOR_BGR2GRAY)\n",
    "    faces = face_cascade.detectMultiScale(gray, 1.3, 5)\n",
    "    for (x, y, w, h) in faces:\n",
    "        roi_gray = gray[y:y+h, x:x+w]\n",
    "        smiles = smile_cascade.detectMultiScale(roi_gray, scaleFactor=1.8, minNeighbors=20)\n",
    "        for (sx, sy, sw, sh) in smiles:\n",
    "            cv2.rectangle(frame, (x+sx, y+sy), (x+sx+sw, y+sy+sh), (0, 255, 0), 2)\n",
    "    return frame\n",
    "def process_video():\n",
    "    cap = cv2.VideoCapture(0)\n",
    "    while cap.isOpened():\n",
    "        ret, frame = cap.read()\n",
    "        if not ret:\n",
    "            break\n",
    "        frame_with_smiles = detect_smiles(frame)\n",
    "        cv2.imshow('Smile Detection', frame_with_smiles)\n",
    "        plot_frame(frame_with_smiles)\n",
    "        break\n",
    "    cap.release()\n",
    "    cv2.destroyAllWindows()\n",
    "\n",
    "def plot_frame(frame):\n",
    "    frame_rgb = cv2.cvtColor(frame, cv2.COLOR_BGR2RGB)\n",
    "    # Plot the frame\n",
    "    plt.figure(figsize=(10, 6))\n",
    "    plt.imshow(frame_rgb)\n",
    "    plt.axis('off')\n",
    "    plt.title('Smile Detection')\n",
    "    plt.show()\n",
    "\n",
    "if __name__ == \"__main__\":\n",
    "    process_video()\n"
   ]
  },
  {
   "cell_type": "code",
   "execution_count": null,
   "id": "e8ef6407-96bd-47e7-8359-57773938b160",
   "metadata": {},
   "outputs": [],
   "source": []
  }
 ],
 "metadata": {
  "kernelspec": {
   "display_name": "Python 3 (ipykernel)",
   "language": "python",
   "name": "python3"
  },
  "language_info": {
   "codemirror_mode": {
    "name": "ipython",
    "version": 3
   },
   "file_extension": ".py",
   "mimetype": "text/x-python",
   "name": "python",
   "nbconvert_exporter": "python",
   "pygments_lexer": "ipython3",
   "version": "3.10.12"
  }
 },
 "nbformat": 4,
 "nbformat_minor": 5
}
