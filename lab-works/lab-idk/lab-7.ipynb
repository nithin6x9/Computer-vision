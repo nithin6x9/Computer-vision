{
 "cells": [
  {
   "cell_type": "code",
   "execution_count": null,
   "metadata": {},
   "outputs": [
    {
     "ename": "",
     "evalue": "",
     "output_type": "error",
     "traceback": [
      "\u001b[1;31mRunning cells with 'opencv (Python 3.9.19)' requires the ipykernel package.\n",
      "\u001b[1;31mRun the following command to install 'ipykernel' into the Python environment. \n",
      "\u001b[1;31mCommand: 'conda install -n opencv ipykernel --update-deps --force-reinstall'"
     ]
    }
   ],
   "source": [
    "import cv2\n",
    "import imutils\n",
    "import matplotlib.pyplot as plt\n",
    "\n",
    "# Initialize the video capture object\n",
    "vid = cv2.VideoCapture(0)\n",
    "\n",
    "# Check if the video capture object is successfully initialized\n",
    "if not vid.isOpened():\n",
    "    print(\"Error: Unable to open video source\")\n",
    "    exit()\n",
    "\n",
    "# Load the pre-trained Haar cascade classifiers for face and eye detection\n",
    "face_cascade = cv2.CascadeClassifier('/home/nithin_nk/git/computer_vision/lab-works/lab-idk/haarcascade_frontalface_default.xml')\n",
    "eye_cascade = cv2.CascadeClassifier('/home/nithin_nk/git/computer_vision/lab-works/lab-idk/haarcascade_eye.xml')\n",
    "smile_cascade = cv2.CascadeClassifier('/home/nithin_nk/git/computer_vision/lab-works/lab-idk/haarcascade_smile.xml')\n",
    "\n",
    "while True:\n",
    "    # Read a frame from the video source\n",
    "    ret, img = vid.read()\n",
    "    if not ret:\n",
    "        print(\"Error: Unable to read frame\")\n",
    "        break\n",
    "\n",
    "    # Resize the frame\n",
    "    img = imutils.resize(img, width=1000)\n",
    "\n",
    "    # Convert the frame to grayscale\n",
    "    gray = cv2.cvtColor(img, cv2.COLOR_BGR2GRAY)\n",
    "\n",
    "    # Detect faces in the grayscale frame\n",
    "    faces = face_cascade.detectMultiScale(gray, 1.3, 5)\n",
    "\n",
    "    # Draw rectangles around the detected faces\n",
    "    for (x, y, w, h) in faces:\n",
    "        cv2.rectangle(img, (x, y), (x+w, y+h), (255, 255, 255), 2)\n",
    "        \n",
    "        # Detect eyes within the face region\n",
    "        roi_gray = gray[y:y+h, x:x+w]\n",
    "        roi_color = img[y:y+h, x:x+w]\n",
    "        eyes = eye_cascade.detectMultiScale(roi_gray)\n",
    "        \n",
    "        # Adjust coordinates and draw rectangles around the detected eyes\n",
    "        for (ex, ey, ew, eh) in eyes:\n",
    "            cv2.rectangle(roi_color, (ex, ey), (ex+ew, ey+eh), (255, 0, 0), 2)\n",
    "\n",
    "    # Display the frame\n",
    "    cv2.imshow('frame', img)\n",
    "\n",
    "    # Check for user input to exit the loop\n",
    "    k = cv2.waitKey(1) & 0xFF\n",
    "    if k == ord('q') or k == 27:  # 27 is the ESC key\n",
    "        break\n",
    "\n",
    "# Release the video capture object and close all OpenCV windows\n",
    "vid.release()\n",
    "cv2.destroyAllWindows()\n",
    "\n",
    "# Convert the image from BGR to RGB for plotting with matplotlib\n",
    "img_rgb = cv2.cvtColor(img, cv2.COLOR_BGR2RGB)\n",
    "\n",
    "# Plot the frame with detections\n",
    "plt.figure(figsize=(10, 6))\n",
    "plt.imshow(img_rgb)\n",
    "plt.axis('off')\n",
    "plt.title('Face and Eye Detection')\n",
    "plt.show()\n"
   ]
  }
 ],
 "metadata": {
  "kernelspec": {
   "display_name": "opencv",
   "language": "python",
   "name": "python3"
  },
  "language_info": {
   "name": "python",
   "version": "3.9.19"
  }
 },
 "nbformat": 4,
 "nbformat_minor": 2
}
